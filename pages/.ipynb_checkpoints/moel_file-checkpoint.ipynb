{
 "cells": [
  {
   "cell_type": "code",
   "execution_count": null,
   "metadata": {},
   "outputs": [],
   "source": [
    "import streamlit as st\n",
    "import pandas as pd\n",
    "from sklearn.model_selection import train_test_split\n",
    "from sklearn.ensemble import RandomForestClassifier\n",
    "from sklearn.linear_model import LinearRegression\n",
    "from sklearn.metrics import accuracy_score\n"
   ]
  },
  {
   "cell_type": "code",
   "execution_count": null,
   "metadata": {},
   "outputs": [],
   "source": [
    "st.title(\"Cost Care Machine Learning Model Interface\")\n",
    "st.sidebar.header(\"Settings\")\n",
    "\n",
    "datasets_name = st.sidebar.selectbox(\"Select Dataset for Prediction\", (\"Community Connector\", \"Social Worker\"))\n",
    "\n",
    "model_type = st.sidebar.select_slider(\"Select Model\", (\"Linear Regression\", \"Random Forest\"))\n",
    "\n",
    "n_estimators = st.sidebar.slider(\"Number of Estimator\", 1, 100, 10)\n",
    "test_size = st.sidebar.slider(\"Test_size\", .1, .5, .2, .3, step=0.05)"
   ]
  },
  {
   "cell_type": "code",
   "execution_count": null,
   "metadata": {},
   "outputs": [],
   "source": [
    "if datasets_name == \"Community_Connector\":\n",
    "    data = pd.read_csv(\"/home/oem/machine_learning/com_conn_data.csv\")\n",
    "    X = data.drop(columns=['cost_of_commConnector'])\n",
    "    y = data['cost_of_commConnector']\n",
    "\n",
    "    X_train, X_test, y_train, y_test = train_test_split(X, y, test_size=test_size)\n",
    "else:\n",
    "    data = pd.read_csv(\"/home/oem/machine_learning/social_worker_data.csv\")\n",
    "    X = data.drop(columns=['cost_of_socialWorker'])\n",
    "    y = data['cost_of_socialWorker']\n",
    "\n",
    "    X_train, X_test, y_train, y_test = train_test_split(X, y, test_size=test_size)\n",
    "\n",
    "if model_type == \"LinearRegression\":\n",
    "    model = LinearRegression()\n",
    "    model.fit(X_train, y_train)\n",
    "\n",
    "else:\n",
    "    model = RandomForestClassifier(n_estimators=n_estimators)\n",
    "    model.fit(X_train, y_train)\n"
   ]
  },
  {
   "cell_type": "code",
   "execution_count": null,
   "metadata": {},
   "outputs": [],
   "source": [
    "if st.sidebar.button(\"Predict\"):\n",
    "    y_pred = model.predict(X_test)\n",
    "    accuracy_score = accuracy_score(y_test, y_pred)\n",
    "    st.write(\"Accuracy\", accuracy_score)"
   ]
  }
 ],
 "metadata": {
  "kernelspec": {
   "display_name": "model",
   "language": "python",
   "name": "python3"
  },
  "language_info": {
   "codemirror_mode": {
    "name": "ipython",
    "version": 3
   },
   "file_extension": ".py",
   "mimetype": "text/x-python",
   "name": "python",
   "nbconvert_exporter": "python",
   "pygments_lexer": "ipython3",
   "version": "3.10.12"
  },
  "orig_nbformat": 4
 },
 "nbformat": 4,
 "nbformat_minor": 2
}
